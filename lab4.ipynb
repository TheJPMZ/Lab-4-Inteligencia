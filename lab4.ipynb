{
 "cells": [
  {
   "attachments": {},
   "cell_type": "markdown",
   "metadata": {},
   "source": [
    "# Regresion lineal polinomica\n",
    "Autor: Jose Monzon\n",
    "\n",
    "Datos brindados para el laboratorio por el profesor. Tomados de Kaggle. \n",
    "Para este trabajo se utilizaron muchos de los ejercicios vistos en la clase de Samuel Chavez, 2023. Repositorio: https://github.com/samuelchvez/python-ml-2021\n",
    "\n",
    "\n",
    "## Task 1\n",
    "Leer el archivo `.csv` a un p array."
   ]
  },
  {
   "cell_type": "code",
   "execution_count": 82,
   "metadata": {},
   "outputs": [],
   "source": [
    "import numpy as np\n",
    "import csv\n",
    "from matplotlib import pyplot as plt\n",
    "\n",
    "raw_data = csv.reader(open('kc_house_data.csv', 'r'))\n",
    "data = np.array(list(raw_data))\n",
    "headers = list(data[0])\n",
    "\n",
    "data = data[1:]\n",
    "\n",
    "price = data[:,headers.index('price')]\n",
    "price = price.reshape(-1,1)\n",
    "price = price.astype(float)\n",
    "\n",
    "living_area = data[:,headers.index('sqft_living')]\n",
    "living_area = living_area.reshape(-1,1)\n",
    "living_area = living_area.astype(float)\n",
    "\n",
    "LENGHT = len(price)\n",
    "DIMENSIONS = (LENGHT, 1)\n",
    "SPARSE = (np.max(price) - np.min(price))\n",
    "\n",
    "Xmr = np.hstack((np.ones(DIMENSIONS), price))\n",
    "Xr = np.hstack((np.ones(DIMENSIONS), living_area))\n",
    "\n",
    "y = 5 * price + living_area * 50"
   ]
  },
  {
   "attachments": {},
   "cell_type": "markdown",
   "metadata": {},
   "source": [
    "# Task 2\n",
    "Ajustar a un modelo polinomial en base al juego de datos (price - sqft living)"
   ]
  },
  {
   "cell_type": "code",
   "execution_count": 83,
   "metadata": {},
   "outputs": [],
   "source": [
    "def cost(X, y, t):\n",
    "    return np.sum((np.dot(X, t) - y) ** 2) / len(X)\n",
    "\n",
    "def gradient(X, y, t):\n",
    "    return 2 * np.dot(X.T, np.dot(X, t) - y) / len(X)\n",
    "\n",
    "def normalization(X):\n",
    "    return np.sqrt(np.sum(X ** 2, axis = 0))\n",
    "\n",
    "def linear_reg(X, y, theta, cost = cost, gradient = gradient, a = 0.1, n = 100, step = None):\n",
    "    cost_list = []\n",
    "    for _ in range(n):\n",
    "        theta -= a * gradient(X, y, theta)\n",
    "        cost_list.append(cost(X, y, theta))\n",
    "        \n",
    "        if step:\n",
    "            step(theta)\n",
    "        \n",
    "    return theta, cost_list"
   ]
  },
  {
   "attachments": {},
   "cell_type": "markdown",
   "metadata": {},
   "source": [
    "## Task 3\n",
    "Implementación vectorial del algoritmo de regresión lineal (descenso del gradiente visto en clase)"
   ]
  },
  {
   "cell_type": "code",
   "execution_count": 85,
   "metadata": {},
   "outputs": [
    {
     "name": "stderr",
     "output_type": "stream",
     "text": [
      "C:\\Users\\josem\\AppData\\Local\\Temp\\ipykernel_34268\\1803271301.py:2: RuntimeWarning: overflow encountered in square\n",
      "  return np.sum((np.dot(X, t) - y) ** 2) / len(X)\n"
     ]
    },
    {
     "name": "stdout",
     "output_type": "stream",
     "text": [
      "[[-2.28939741e+220]\n",
      " [-5.69017244e+223]]\n"
     ]
    },
    {
     "data": {
      "image/png": "[encoded data removed]",
      "text/plain": [
       "<Figure size 640x480 with 1 Axes>"
      ]
     },
     "metadata": {},
     "output_type": "display_data"
    }
   ],
   "source": [
    "theta = np.linalg.inv(Xmr.T.dot(Xmr)).dot(Xmr.T).dot(living_area)\n",
    "\n",
    "tf, cost_list = linear_reg(Xr, y, theta, a = 0.0025, n = 50)\n",
    "\n",
    "print(tf)\n",
    "\n",
    "xm = np.array([[0], [np.max(price)]])\n",
    "xmr = np.hstack((np.ones((2, 1)), xm))\n",
    "ym = np.dot(xmr, tf)\n",
    "\n",
    "plt.plot(Xr[:,1], y, 'r.')\n",
    "\n",
    "plt.xlabel('Price')\n",
    "plt.ylabel('Living area (sqft)')\n",
    "plt.show()\n"
   ]
  },
  {
   "attachments": {},
   "cell_type": "markdown",
   "metadata": {},
   "source": [
    "## Task 4\n",
    "Determinar el grado del polinomio para describir la nube de puntos usando cross-validation."
   ]
  },
  {
   "cell_type": "code",
   "execution_count": 86,
   "metadata": {},
   "outputs": [
    {
     "name": "stderr",
     "output_type": "stream",
     "text": [
      "C:\\Users\\josem\\AppData\\Local\\Temp\\ipykernel_34268\\3531089307.py:7: RuntimeWarning: overflow encountered in power\n",
      "  X_poly = np.column_stack([X ** i for i in range(1, degree + 1)])\n"
     ]
    },
    {
     "name": "stdout",
     "output_type": "stream",
     "text": [
      "best_degree =  10\n"
     ]
    }
   ],
   "source": [
    "def training_test(data, train_size = 0.8):\n",
    "    np.random.shuffle(data)\n",
    "    train_size = int(train_size * len(data))\n",
    "    return data[:train_size], data[train_size:]\n",
    "\n",
    "def mean_squared_error(X, y, degree):\n",
    "    X_poly = np.column_stack([X ** i for i in range(1, degree + 1)])\n",
    "    X_poly = np.insert(X_poly, 0, 1, axis = 1)\n",
    "    theta = np.linalg.inv(X_poly.T.dot(X_poly)).dot(X_poly.T).dot(y)\n",
    "    y_pred = np.dot(X_poly, theta)\n",
    "    mse = np.sum((y - y_pred) ** 2) / len(X)\n",
    "    return mse\n",
    "\n",
    "def cross_validation(data, degree, k = 3):\n",
    "    np.random.shuffle(data)\n",
    "    mse = 0\n",
    "    for i in range(k):\n",
    "        test_i = np.arange(i, len(data), k)\n",
    "        train_i = np.setdiff1d(np.arange(len(data)), test_i)\n",
    "        mse += mean_squared_error(data[train_i][:, 0], data[train_i][:, 1], degree)\n",
    "    mse /= k\n",
    "    return mse\n",
    "        \n",
    "def best_degree(data, max):\n",
    "    mse_best = float('inf')\n",
    "    for d in range(1, max):\n",
    "        mse = cross_validation(data, d)\n",
    "        if mse < mse_best:\n",
    "            mse_best = mse\n",
    "            degree_best = d\n",
    "    return degree_best\n",
    "    \n",
    "data_train, data_test = training_test(np.column_stack((price, living_area)), train_size = 0.8)\n",
    "\n",
    "best_degree = best_degree(data_train, 50) # Probamos con distintos grados de polinomio para ver cual es el mejor\n",
    "\n",
    "print(\"best_degree = \", best_degree)"
   ]
  },
  {
   "attachments": {},
   "cell_type": "markdown",
   "metadata": {},
   "source": [
    "## Task 5 : Analisis de resultados\n",
    "Al realizar una regresion lineal para este dataset obtenemos que las variables \"precio\" y \"metros cuadrados de vivienda\" tienen correlacion lineal positiva. Esto quiere decir que mientras que la vivienda tenga mas espacio disponible, el precio de la misma tiende a aumentar igualmente.\n",
    "\n",
    "Se encontro un buen grado del polinomio para este ya que luego de compararlo con los datos de prueba y 50 grados diferentes se encontro que el de grado 10 es el que se ajusta de mejor manera, generando asi un error menor. "
   ]
  },
  {
   "cell_type": "markdown",
   "metadata": {},
   "source": []
  },
  {
   "attachments": {},
   "cell_type": "markdown",
   "metadata": {},
   "source": [
    "\n",
    "\n"
   ]
  }
 ],
 "metadata": {
  "kernelspec": {
   "display_name": "Python 3",
   "language": "python",
   "name": "python3"
  },
  "language_info": {
   "codemirror_mode": {
    "name": "ipython",
    "version": 3
   },
   "file_extension": ".py",
   "mimetype": "text/x-python",
   "name": "python",
   "nbconvert_exporter": "python",
   "pygments_lexer": "ipython3",
   "version": "3.10.2"
  },
  "orig_nbformat": 4
 },
 "nbformat": 4,
 "nbformat_minor": 2
}
